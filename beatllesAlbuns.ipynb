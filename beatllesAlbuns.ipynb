{
 "cells": [
  {
   "cell_type": "code",
   "execution_count": 3,
   "metadata": {},
   "outputs": [
    {
     "name": "stdout",
     "output_type": "stream",
     "text": [
      "=== Welcome! This is the list of The Beatles's albums ===\n",
      "           === I love The Beatles!! ===           \n",
      "                                       Name  Year\n",
      "0                        1-Please Please Me  1963\n",
      "1                        2-With The Beatles  1963\n",
      "2                      3-A Hard Day's Night  1964\n",
      "3                        4-Beatles for Sale  1964\n",
      "4                                   5-Help!  1965\n",
      "5                             6-Rubber Soul  1965\n",
      "6                                7-Revolver  1966\n",
      "7   8-Sgt. Pepper's Lonely Hearts Club Band  1967\n",
      "8                    9-Magical Mystery Tour  1967\n",
      "9                            10-White Album  1968\n",
      "10                      11-Yellow Submarine  1969\n",
      "11                            12-Abbey Road  1969\n",
      "12                             13-Let It Be  1970\n",
      "<class 'beatlesalbuns.BAlbuns'>\n"
     ]
    }
   ],
   "source": [
    "import beatlesalbuns as bt\n",
    "listaAlbuns = bt.BAlbuns()\n",
    "print(listaAlbuns.show_albuns())\n",
    "print(type(listaAlbuns))"
   ]
  },
  {
   "cell_type": "markdown",
   "metadata": {},
   "source": [
    "ver: Building and Publishing - Python Packaging User Guide \n",
    "https://packaging.python.org/en/latest/guides/section-build-and-publish/\n"
   ]
  }
 ],
 "metadata": {
  "kernelspec": {
   "display_name": "Python 3",
   "language": "python",
   "name": "python3"
  },
  "language_info": {
   "codemirror_mode": {
    "name": "ipython",
    "version": 3
   },
   "file_extension": ".py",
   "mimetype": "text/x-python",
   "name": "python",
   "nbconvert_exporter": "python",
   "pygments_lexer": "ipython3",
   "version": "3.12.2"
  }
 },
 "nbformat": 4,
 "nbformat_minor": 2
}
