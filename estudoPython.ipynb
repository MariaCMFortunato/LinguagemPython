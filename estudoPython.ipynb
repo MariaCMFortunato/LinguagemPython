{
 "cells": [
  {
   "cell_type": "markdown",
   "metadata": {},
   "source": [
    "<h3>Para instalar componentes do python fazer PIP install na linha de comandos do DOS</h3>\n",
    "<img src=\"cmd.png\" style=\"width:250px; height: auto;\">\n",
    "\n",
    "<h3>Para listar escreve-se PIP list na linha de comandos do DOS</h3>"
   ]
  },
  {
   "cell_type": "markdown",
   "metadata": {},
   "source": [
    "<h4>As classes são tipos de dados abstratos que podemos definir para representar um objeto desse tipo.\n",
    "Criamos objetos do tipo classe, os quais têm o comportamento de acordo com as caraterísticas da classe a que pertencem.</h4>"
   ]
  },
  {
   "cell_type": "code",
   "execution_count": 1,
   "metadata": {},
   "outputs": [
    {
     "name": "stdout",
     "output_type": "stream",
     "text": [
      "<class 'float'>\n",
      "<class 'str'>\n"
     ]
    }
   ],
   "source": [
    "print(type(5.10))\n",
    "print(type(\"Python é divertido\"))"
   ]
  },
  {
   "cell_type": "code",
   "execution_count": 2,
   "metadata": {},
   "outputs": [
    {
     "name": "stdout",
     "output_type": "stream",
     "text": [
      "<class 'int'>\n",
      "['__abs__', '__add__', '__and__', '__bool__', '__ceil__', '__class__', '__delattr__', '__dir__', '__divmod__', '__doc__', '__eq__', '__float__', '__floor__', '__floordiv__', '__format__', '__ge__', '__getattribute__', '__getnewargs__', '__getstate__', '__gt__', '__hash__', '__index__', '__init__', '__init_subclass__', '__int__', '__invert__', '__le__', '__lshift__', '__lt__', '__mod__', '__mul__', '__ne__', '__neg__', '__new__', '__or__', '__pos__', '__pow__', '__radd__', '__rand__', '__rdivmod__', '__reduce__', '__reduce_ex__', '__repr__', '__rfloordiv__', '__rlshift__', '__rmod__', '__rmul__', '__ror__', '__round__', '__rpow__', '__rrshift__', '__rshift__', '__rsub__', '__rtruediv__', '__rxor__', '__setattr__', '__sizeof__', '__str__', '__sub__', '__subclasshook__', '__truediv__', '__trunc__', '__xor__', 'as_integer_ratio', 'bit_count', 'bit_length', 'conjugate', 'denominator', 'from_bytes', 'imag', 'is_integer', 'numerator', 'real', 'to_bytes']\n"
     ]
    }
   ],
   "source": [
    "a=123\n",
    "print(type(a))\n",
    "print(dir(a))"
   ]
  },
  {
   "cell_type": "code",
   "execution_count": 3,
   "metadata": {},
   "outputs": [
    {
     "name": "stdout",
     "output_type": "stream",
     "text": [
      "<class 'str'>\n",
      "['__add__', '__class__', '__contains__', '__delattr__', '__dir__', '__doc__', '__eq__', '__format__', '__ge__', '__getattribute__', '__getitem__', '__getnewargs__', '__getstate__', '__gt__', '__hash__', '__init__', '__init_subclass__', '__iter__', '__le__', '__len__', '__lt__', '__mod__', '__mul__', '__ne__', '__new__', '__reduce__', '__reduce_ex__', '__repr__', '__rmod__', '__rmul__', '__setattr__', '__sizeof__', '__str__', '__subclasshook__', 'capitalize', 'casefold', 'center', 'count', 'encode', 'endswith', 'expandtabs', 'find', 'format', 'format_map', 'index', 'isalnum', 'isalpha', 'isascii', 'isdecimal', 'isdigit', 'isidentifier', 'islower', 'isnumeric', 'isprintable', 'isspace', 'istitle', 'isupper', 'join', 'ljust', 'lower', 'lstrip', 'maketrans', 'partition', 'removeprefix', 'removesuffix', 'replace', 'rfind', 'rindex', 'rjust', 'rpartition', 'rsplit', 'rstrip', 'split', 'splitlines', 'startswith', 'strip', 'swapcase', 'title', 'translate', 'upper', 'zfill']\n"
     ]
    }
   ],
   "source": [
    "b=\"Python\"\n",
    "print(type(b))\n",
    "print(dir(b))"
   ]
  },
  {
   "cell_type": "code",
   "execution_count": 4,
   "metadata": {},
   "outputs": [
    {
     "name": "stdout",
     "output_type": "stream",
     "text": [
      "<class 'float'>\n",
      "<class 'int'>\n",
      "<class 'int'>\n",
      "<class 'complex'>\n",
      "<class 'float'>\n"
     ]
    }
   ],
   "source": [
    "print(type (3.14))\n",
    "print(type (3))\n",
    "print(type(1234567890123456789012345678901234567890123456789012345678901234567890))\n",
    "print(type(1+3j))\n",
    "print(type (1.E03))"
   ]
  },
  {
   "cell_type": "code",
   "execution_count": 5,
   "metadata": {},
   "outputs": [
    {
     "name": "stdout",
     "output_type": "stream",
     "text": [
      "<class 'str'>\n",
      "<class 'list'>\n",
      "<class 'dict'>\n",
      "<class 'tuple'>\n",
      "<class 'bool'>\n"
     ]
    }
   ],
   "source": [
    "print(type(\"Python é uma linguagem de programação\"))\n",
    "print(type([1,2,3, \"Iniciação ao Python\"]))\n",
    "print(type({\"linguagem\": \"Python\", \"Domínio\": \"Geoespacial\"}))\n",
    "#pode usar \"\" ou ''\n",
    "#importante usar {} para delimitar os dados\n",
    "print(type((\"python\", \"Geoespacial\" , \"123\")))\n",
    "#pode usar \"\" ou ''\n",
    "#importante usar () para delimitar o registo\n",
    "print(type(True))"
   ]
  },
  {
   "cell_type": "markdown",
   "metadata": {},
   "source": [
    "<h1>OPERADORES NUMÉRICOS</h1>\n",
    "<p>+ => adição</p>\n",
    "<p>- => subtração</p>\n",
    "<p>* => Multiplicação</p>\n",
    "<p>/ => Divisão</p>\n",
    "<p>// => Divisão inteira</p>\n",
    "<p>% => resto da divisão</p>\n",
    "<p>=> exponenciação</p>\n",
    "<h5>Possui também os módulos <strong>math</strong> e <strong><em>Numpy</em></strong></h5>"
   ]
  },
  {
   "cell_type": "markdown",
   "metadata": {},
   "source": [
    "### DADOS NUMÉRICOS"
   ]
  },
  {
   "cell_type": "code",
   "execution_count": 6,
   "metadata": {},
   "outputs": [
    {
     "name": "stdout",
     "output_type": "stream",
     "text": [
      "8\n",
      "2\n",
      "15\n",
      "125\n"
     ]
    }
   ],
   "source": [
    "a = 5\n",
    "b = 3\n",
    "print(a + b)\n",
    "print(a - b)\n",
    "print(a * b)\n",
    "print(a ** b)"
   ]
  },
  {
   "cell_type": "code",
   "execution_count": 7,
   "metadata": {},
   "outputs": [
    {
     "name": "stdout",
     "output_type": "stream",
     "text": [
      "1.6666666666666667\n",
      "<class 'float'>\n",
      "1\n",
      "2\n"
     ]
    }
   ],
   "source": [
    "c = a / b\n",
    "print(c)\n",
    "print(type(c))\n",
    "print(a//b)\n",
    "print(a%b)"
   ]
  },
  {
   "cell_type": "code",
   "execution_count": 8,
   "metadata": {},
   "outputs": [
    {
     "name": "stdout",
     "output_type": "stream",
     "text": [
      "3.141592653589793\n",
      "3.1\n",
      "3.1416\n"
     ]
    }
   ],
   "source": [
    "import math\n",
    "a = math.pi\n",
    "print(a)\n",
    "print('%.1f'%a)\n",
    "print('%.4f'%a)"
   ]
  },
  {
   "cell_type": "code",
   "execution_count": 9,
   "metadata": {},
   "outputs": [
    {
     "name": "stdout",
     "output_type": "stream",
     "text": [
      "Help on built-in module math:\n",
      "\n",
      "NAME\n",
      "    math\n",
      "\n",
      "DESCRIPTION\n",
      "    This module provides access to the mathematical functions\n",
      "    defined by the C standard.\n",
      "\n",
      "FUNCTIONS\n",
      "    acos(x, /)\n",
      "        Return the arc cosine (measured in radians) of x.\n",
      "\n",
      "        The result is between 0 and pi.\n",
      "\n",
      "    acosh(x, /)\n",
      "        Return the inverse hyperbolic cosine of x.\n",
      "\n",
      "    asin(x, /)\n",
      "        Return the arc sine (measured in radians) of x.\n",
      "\n",
      "        The result is between -pi/2 and pi/2.\n",
      "\n",
      "    asinh(x, /)\n",
      "        Return the inverse hyperbolic sine of x.\n",
      "\n",
      "    atan(x, /)\n",
      "        Return the arc tangent (measured in radians) of x.\n",
      "\n",
      "        The result is between -pi/2 and pi/2.\n",
      "\n",
      "    atan2(y, x, /)\n",
      "        Return the arc tangent (measured in radians) of y/x.\n",
      "\n",
      "        Unlike atan(y/x), the signs of both x and y are considered.\n",
      "\n",
      "    atanh(x, /)\n",
      "        Return the inverse hyperbolic tangent of x.\n",
      "\n",
      "    cbrt(x, /)\n",
      "        Return the cube root of x.\n",
      "\n",
      "    ceil(x, /)\n",
      "        Return the ceiling of x as an Integral.\n",
      "\n",
      "        This is the smallest integer >= x.\n",
      "\n",
      "    comb(n, k, /)\n",
      "        Number of ways to choose k items from n items without repetition and without order.\n",
      "\n",
      "        Evaluates to n! / (k! * (n - k)!) when k <= n and evaluates\n",
      "        to zero when k > n.\n",
      "\n",
      "        Also called the binomial coefficient because it is equivalent\n",
      "        to the coefficient of k-th term in polynomial expansion of the\n",
      "        expression (1 + x)**n.\n",
      "\n",
      "        Raises TypeError if either of the arguments are not integers.\n",
      "        Raises ValueError if either of the arguments are negative.\n",
      "\n",
      "    copysign(x, y, /)\n",
      "        Return a float with the magnitude (absolute value) of x but the sign of y.\n",
      "\n",
      "        On platforms that support signed zeros, copysign(1.0, -0.0)\n",
      "        returns -1.0.\n",
      "\n",
      "    cos(x, /)\n",
      "        Return the cosine of x (measured in radians).\n",
      "\n",
      "    cosh(x, /)\n",
      "        Return the hyperbolic cosine of x.\n",
      "\n",
      "    degrees(x, /)\n",
      "        Convert angle x from radians to degrees.\n",
      "\n",
      "    dist(p, q, /)\n",
      "        Return the Euclidean distance between two points p and q.\n",
      "\n",
      "        The points should be specified as sequences (or iterables) of\n",
      "        coordinates.  Both inputs must have the same dimension.\n",
      "\n",
      "        Roughly equivalent to:\n",
      "            sqrt(sum((px - qx) ** 2.0 for px, qx in zip(p, q)))\n",
      "\n",
      "    erf(x, /)\n",
      "        Error function at x.\n",
      "\n",
      "    erfc(x, /)\n",
      "        Complementary error function at x.\n",
      "\n",
      "    exp(x, /)\n",
      "        Return e raised to the power of x.\n",
      "\n",
      "    exp2(x, /)\n",
      "        Return 2 raised to the power of x.\n",
      "\n",
      "    expm1(x, /)\n",
      "        Return exp(x)-1.\n",
      "\n",
      "        This function avoids the loss of precision involved in the direct evaluation of exp(x)-1 for small x.\n",
      "\n",
      "    fabs(x, /)\n",
      "        Return the absolute value of the float x.\n",
      "\n",
      "    factorial(n, /)\n",
      "        Find n!.\n",
      "\n",
      "        Raise a ValueError if x is negative or non-integral.\n",
      "\n",
      "    floor(x, /)\n",
      "        Return the floor of x as an Integral.\n",
      "\n",
      "        This is the largest integer <= x.\n",
      "\n",
      "    fmod(x, y, /)\n",
      "        Return fmod(x, y), according to platform C.\n",
      "\n",
      "        x % y may differ.\n",
      "\n",
      "    frexp(x, /)\n",
      "        Return the mantissa and exponent of x, as pair (m, e).\n",
      "\n",
      "        m is a float and e is an int, such that x = m * 2.**e.\n",
      "        If x is 0, m and e are both 0.  Else 0.5 <= abs(m) < 1.0.\n",
      "\n",
      "    fsum(seq, /)\n",
      "        Return an accurate floating point sum of values in the iterable seq.\n",
      "\n",
      "        Assumes IEEE-754 floating point arithmetic.\n",
      "\n",
      "    gamma(x, /)\n",
      "        Gamma function at x.\n",
      "\n",
      "    gcd(*integers)\n",
      "        Greatest Common Divisor.\n",
      "\n",
      "    hypot(...)\n",
      "        hypot(*coordinates) -> value\n",
      "\n",
      "        Multidimensional Euclidean distance from the origin to a point.\n",
      "\n",
      "        Roughly equivalent to:\n",
      "            sqrt(sum(x**2 for x in coordinates))\n",
      "\n",
      "        For a two dimensional point (x, y), gives the hypotenuse\n",
      "        using the Pythagorean theorem:  sqrt(x*x + y*y).\n",
      "\n",
      "        For example, the hypotenuse of a 3/4/5 right triangle is:\n",
      "\n",
      "            >>> hypot(3.0, 4.0)\n",
      "            5.0\n",
      "\n",
      "    isclose(a, b, *, rel_tol=1e-09, abs_tol=0.0)\n",
      "        Determine whether two floating point numbers are close in value.\n",
      "\n",
      "          rel_tol\n",
      "            maximum difference for being considered \"close\", relative to the\n",
      "            magnitude of the input values\n",
      "          abs_tol\n",
      "            maximum difference for being considered \"close\", regardless of the\n",
      "            magnitude of the input values\n",
      "\n",
      "        Return True if a is close in value to b, and False otherwise.\n",
      "\n",
      "        For the values to be considered close, the difference between them\n",
      "        must be smaller than at least one of the tolerances.\n",
      "\n",
      "        -inf, inf and NaN behave similarly to the IEEE 754 Standard.  That\n",
      "        is, NaN is not close to anything, even itself.  inf and -inf are\n",
      "        only close to themselves.\n",
      "\n",
      "    isfinite(x, /)\n",
      "        Return True if x is neither an infinity nor a NaN, and False otherwise.\n",
      "\n",
      "    isinf(x, /)\n",
      "        Return True if x is a positive or negative infinity, and False otherwise.\n",
      "\n",
      "    isnan(x, /)\n",
      "        Return True if x is a NaN (not a number), and False otherwise.\n",
      "\n",
      "    isqrt(n, /)\n",
      "        Return the integer part of the square root of the input.\n",
      "\n",
      "    lcm(*integers)\n",
      "        Least Common Multiple.\n",
      "\n",
      "    ldexp(x, i, /)\n",
      "        Return x * (2**i).\n",
      "\n",
      "        This is essentially the inverse of frexp().\n",
      "\n",
      "    lgamma(x, /)\n",
      "        Natural logarithm of absolute value of Gamma function at x.\n",
      "\n",
      "    log(...)\n",
      "        log(x, [base=math.e])\n",
      "        Return the logarithm of x to the given base.\n",
      "\n",
      "        If the base is not specified, returns the natural logarithm (base e) of x.\n",
      "\n",
      "    log10(x, /)\n",
      "        Return the base 10 logarithm of x.\n",
      "\n",
      "    log1p(x, /)\n",
      "        Return the natural logarithm of 1+x (base e).\n",
      "\n",
      "        The result is computed in a way which is accurate for x near zero.\n",
      "\n",
      "    log2(x, /)\n",
      "        Return the base 2 logarithm of x.\n",
      "\n",
      "    modf(x, /)\n",
      "        Return the fractional and integer parts of x.\n",
      "\n",
      "        Both results carry the sign of x and are floats.\n",
      "\n",
      "    nextafter(x, y, /, *, steps=None)\n",
      "        Return the floating-point value the given number of steps after x towards y.\n",
      "\n",
      "        If steps is not specified or is None, it defaults to 1.\n",
      "\n",
      "        Raises a TypeError, if x or y is not a double, or if steps is not an integer.\n",
      "        Raises ValueError if steps is negative.\n",
      "\n",
      "    perm(n, k=None, /)\n",
      "        Number of ways to choose k items from n items without repetition and with order.\n",
      "\n",
      "        Evaluates to n! / (n - k)! when k <= n and evaluates\n",
      "        to zero when k > n.\n",
      "\n",
      "        If k is not specified or is None, then k defaults to n\n",
      "        and the function returns n!.\n",
      "\n",
      "        Raises TypeError if either of the arguments are not integers.\n",
      "        Raises ValueError if either of the arguments are negative.\n",
      "\n",
      "    pow(x, y, /)\n",
      "        Return x**y (x to the power of y).\n",
      "\n",
      "    prod(iterable, /, *, start=1)\n",
      "        Calculate the product of all the elements in the input iterable.\n",
      "\n",
      "        The default start value for the product is 1.\n",
      "\n",
      "        When the iterable is empty, return the start value.  This function is\n",
      "        intended specifically for use with numeric values and may reject\n",
      "        non-numeric types.\n",
      "\n",
      "    radians(x, /)\n",
      "        Convert angle x from degrees to radians.\n",
      "\n",
      "    remainder(x, y, /)\n",
      "        Difference between x and the closest integer multiple of y.\n",
      "\n",
      "        Return x - n*y where n*y is the closest integer multiple of y.\n",
      "        In the case where x is exactly halfway between two multiples of\n",
      "        y, the nearest even value of n is used. The result is always exact.\n",
      "\n",
      "    sin(x, /)\n",
      "        Return the sine of x (measured in radians).\n",
      "\n",
      "    sinh(x, /)\n",
      "        Return the hyperbolic sine of x.\n",
      "\n",
      "    sqrt(x, /)\n",
      "        Return the square root of x.\n",
      "\n",
      "    sumprod(p, q, /)\n",
      "        Return the sum of products of values from two iterables p and q.\n",
      "\n",
      "        Roughly equivalent to:\n",
      "\n",
      "            sum(itertools.starmap(operator.mul, zip(p, q, strict=True)))\n",
      "\n",
      "        For float and mixed int/float inputs, the intermediate products\n",
      "        and sums are computed with extended precision.\n",
      "\n",
      "    tan(x, /)\n",
      "        Return the tangent of x (measured in radians).\n",
      "\n",
      "    tanh(x, /)\n",
      "        Return the hyperbolic tangent of x.\n",
      "\n",
      "    trunc(x, /)\n",
      "        Truncates the Real x to the nearest Integral toward 0.\n",
      "\n",
      "        Uses the __trunc__ magic method.\n",
      "\n",
      "    ulp(x, /)\n",
      "        Return the value of the least significant bit of the float x.\n",
      "\n",
      "DATA\n",
      "    e = 2.718281828459045\n",
      "    inf = inf\n",
      "    nan = nan\n",
      "    pi = 3.141592653589793\n",
      "    tau = 6.283185307179586\n",
      "\n",
      "FILE\n",
      "    (built-in)\n",
      "\n",
      "\n"
     ]
    }
   ],
   "source": [
    "help(math)"
   ]
  },
  {
   "cell_type": "code",
   "execution_count": 10,
   "metadata": {},
   "outputs": [
    {
     "name": "stdout",
     "output_type": "stream",
     "text": [
      "['__doc__', '__loader__', '__name__', '__package__', '__spec__', 'acos', 'acosh', 'asin', 'asinh', 'atan', 'atan2', 'atanh', 'cbrt', 'ceil', 'comb', 'copysign', 'cos', 'cosh', 'degrees', 'dist', 'e', 'erf', 'erfc', 'exp', 'exp2', 'expm1', 'fabs', 'factorial', 'floor', 'fmod', 'frexp', 'fsum', 'gamma', 'gcd', 'hypot', 'inf', 'isclose', 'isfinite', 'isinf', 'isnan', 'isqrt', 'lcm', 'ldexp', 'lgamma', 'log', 'log10', 'log1p', 'log2', 'modf', 'nan', 'nextafter', 'perm', 'pi', 'pow', 'prod', 'radians', 'remainder', 'sin', 'sinh', 'sqrt', 'sumprod', 'tan', 'tanh', 'tau', 'trunc', 'ulp']\n"
     ]
    }
   ],
   "source": [
    "print(dir(math))"
   ]
  },
  {
   "cell_type": "code",
   "execution_count": 11,
   "metadata": {},
   "outputs": [
    {
     "data": {
      "text/plain": [
       "5.0"
      ]
     },
     "execution_count": 11,
     "metadata": {},
     "output_type": "execute_result"
    }
   ],
   "source": [
    "math.sqrt(25)"
   ]
  },
  {
   "cell_type": "markdown",
   "metadata": {},
   "source": [
    "<h3>DADOS TIPO STRING</h3>\n",
    "<h1 style=\"color: rgb(50,150,150)\">As strings são objetos imutáveis</h1>\n",
    "<p>+ concatenação</p>\n",
    "<p>* repetição</p>\n",
    "<p>upper - converter texto para <em>upper case</em></p>\n",
    "<p>lower - converter texto para <em>lowerr case</em></p>\n",
    "<p>replace - substituição</p>\n",
    "<p>split - separação</p>\n",
    "<p>find - pesquisa</p>"
   ]
  },
  {
   "cell_type": "code",
   "execution_count": 12,
   "metadata": {},
   "outputs": [
    {
     "name": "stdout",
     "output_type": "stream",
     "text": [
      "<class 'str'>\n",
      "6\n",
      "y\n",
      "Pyt\n",
      "n\n",
      "o\n"
     ]
    }
   ],
   "source": [
    "a = \"Python\"#atribuimos uma sequência ordenada de vários objetos do tipo string\n",
    "print(type(a))\n",
    "print(len(a))#retorna o número de items da sequêncioa string\n",
    "print(a[1])\n",
    "print(a[0:3])\n",
    "print(a[-1])#mostra o último objeto da sequência\n",
    "print(a[-2])"
   ]
  },
  {
   "cell_type": "code",
   "execution_count": 13,
   "metadata": {},
   "outputs": [
    {
     "name": "stdout",
     "output_type": "stream",
     "text": [
      "Python->Fofinho\n",
      "PythonPython\n",
      "PYTHON\n",
      "python\n",
      "Python->Fofinho\n",
      "6\n",
      "Python->Fofinho\n",
      "Python é Fofinho\n",
      "['Python', 'Fofinho']\n"
     ]
    }
   ],
   "source": [
    "a=\"Python\"\n",
    "b=\"->\"\n",
    "c=\"Fofinho\"\n",
    "print(a+b+c)\n",
    "print(a*2)\n",
    "print(a.upper())\n",
    "print(a.lower())\n",
    "d=a+b+c\n",
    "print(d)\n",
    "print(d.find(\"->\"))\n",
    "f=d.replace(\"->\", \" é \")\n",
    "print(d)\n",
    "print(f)\n",
    "print(d.split(\"->\"))"
   ]
  },
  {
   "cell_type": "markdown",
   "metadata": {},
   "source": [
    "<h4>FORMATAÇÃO DE STRINGS</h4>\n",
    "<p> s <em>string</em></p>\n",
    "<p> c caracter</p>\n",
    "<p> i inteiro</p>\n",
    "<p> d decimal</p>\n",
    "<p> f <em>float</em></p>\n",
    "<p> e <em>float</em> com exponenciação</p>"
   ]
  },
  {
   "cell_type": "code",
   "execution_count": 14,
   "metadata": {},
   "outputs": [
    {
     "name": "stdout",
     "output_type": "stream",
     "text": [
      "Tenho 1 computador com win32 instalado\n",
      "Tenho 1.000 computador com win32 instalado\n",
      "Tenho 1 portátil com win32 instalado e o binário do executável está em c:\\Program Files\\Python312\\python.exe\n"
     ]
    }
   ],
   "source": [
    "import sys\n",
    "a = \"Tenho %i computador com %s instalado\"%(1, sys.platform)\n",
    "b = \"Tenho %.3f computador com %s instalado\"%(1, sys.platform)\n",
    "c = \"Tenho {0} {1} com {2} instalado e o binário do executável está em {3}\".format(1, \"portátil\", sys.platform, sys.executable)\n",
    "print(a)\n",
    "print(b)\n",
    "print(c)"
   ]
  },
  {
   "cell_type": "code",
   "execution_count": 15,
   "metadata": {},
   "outputs": [
    {
     "name": "stdout",
     "output_type": "stream",
     "text": [
      "                             Bem-vindo ao Python!\n",
      "\n",
      "              Bem-vindo ao Python!\n",
      "               \n",
      "Bem-vindo ao Python!\n",
      "                             \n",
      "                                       Bem-vindo ao Python!\n",
      "                                        \n",
      "                           Bem-vindo ao Python!\n",
      "                           \n"
     ]
    }
   ],
   "source": [
    "mensagem = \"Bem-vindo ao Python!\\n\"\n",
    "print(f\"{mensagem:>50}\")\n",
    "print(f\"{mensagem:^50}\")\n",
    "print(f\"{mensagem:<50}\")\n",
    "print(f\"{mensagem:^100}\")\n",
    "print(f\"{mensagem:^75}\")"
   ]
  },
  {
   "cell_type": "code",
   "execution_count": 16,
   "metadata": {},
   "outputs": [
    {
     "name": "stdout",
     "output_type": "stream",
     "text": [
      "                             Bem-vindo ao Python!\n",
      "\n",
      "              Bem-vindo ao Python!\n",
      "               \n",
      "Bem-vindo ao Python!\n",
      "                             \n"
     ]
    }
   ],
   "source": [
    "mensagem = \"Bem-vindo ao Python!\\n\"\n",
    "print(f\"{mensagem}\".rjust(50))\n",
    "print(f\"{mensagem}\".center(50))\n",
    "print(f\"{mensagem}\".ljust(50))"
   ]
  },
  {
   "cell_type": "markdown",
   "metadata": {},
   "source": [
    "<h3>DADOS TIPO LISTA <strong>[]</strong></h3>\n",
    "<h2>As listas podem ser alteradas<h2>\n",
    "<h5>Coleções de vários tipos de objetos ordenados posicionalmente</h5>\n",
    "<h5>Por isso podemos aceder aos objetos pelo indice da posição</h5>\n",
    "<h5>Não possuem tamanho fixo</h5>\n"
   ]
  },
  {
   "cell_type": "code",
   "execution_count": 17,
   "metadata": {},
   "outputs": [
    {
     "name": "stdout",
     "output_type": "stream",
     "text": [
      "<class 'list'>\n",
      "3\n",
      "1\n",
      "<class 'int'>\n",
      "3.14\n",
      "<class 'float'>\n",
      "GIS\n",
      "<class 'str'>\n"
     ]
    }
   ],
   "source": [
    "a = [1,3.14,'GIS']\n",
    "print(type(a))\n",
    "print(len(a))\n",
    "print(a[0])\n",
    "print(type(a[0]))\n",
    "print(a[1])\n",
    "print(type(a[1]))\n",
    "print(a[2])\n",
    "print(type(a[2]))\n"
   ]
  },
  {
   "cell_type": "code",
   "execution_count": 18,
   "metadata": {},
   "outputs": [
    {
     "name": "stdout",
     "output_type": "stream",
     "text": [
      "[1, 'GIS']\n",
      "[1, 'Python', 'GIS']\n",
      "[3.14, 'Python', 'GIS']\n",
      "['GIS', 'Python', 3.14]\n"
     ]
    }
   ],
   "source": [
    "a.pop(1)\n",
    "print(a)\n",
    "a.insert(1,\"Python\")\n",
    "print(a)\n",
    "a[0] =3.14\n",
    "print(a)\n",
    "a.reverse()\n",
    "print(a)"
   ]
  },
  {
   "cell_type": "code",
   "execution_count": 20,
   "metadata": {},
   "outputs": [
    {
     "name": "stdout",
     "output_type": "stream",
     "text": [
      "[1, 2, 3, 'GIS', [6, 4, 5]]\n",
      "5\n",
      "[4, 5]\n"
     ]
    }
   ],
   "source": [
    "a = [1,2,3,\"GIS\"]\n",
    "a.append([6,4,5])#Anexa uma lista secundárfia a uma lista principal\n",
    "print(a)\n",
    "print(a[4][2])#imprimir o elemento de índice 2(5) do elemento índice 4 ([6,4,5])\n",
    "print(a[-1][1:])#imprimir do último elemento ([6,4,5]), os elementos da posição em diante"
   ]
  },
  {
   "cell_type": "markdown",
   "metadata": {},
   "source": [
    "<h3>DADOS TIPO TUPLO <strong>()</strong></h3>\n",
    "<h2>Os tuplos <strong>NÃO</strong> podem ser alteradas<h2>\n",
    "<h5>Coleções de vários tipos de objetos</h5>\n",
    "<h5>Coleções de vários tipos de objetos ordenados posicionalmente</h5>\n",
    "<h5>Por isso podemos aceder aos objetos pelo indice da posição</h5>\n",
    "<h5>Parecidos com as listas</h5>"
   ]
  },
  {
   "cell_type": "code",
   "execution_count": 2,
   "metadata": {},
   "outputs": [
    {
     "name": "stdout",
     "output_type": "stream",
     "text": [
      "Python\n",
      "(1, 2, 3)\n"
     ]
    }
   ],
   "source": [
    "b = (1,2,3,\"Python\")\n",
    "print(b[-1])\n",
    "print(b[:3])#imprime os 3 primeiros elementos\n",
    "#b[3] = \"GIS\" #Dá erro porque é imutável \n",
    "#Apenas pode ser mudado se o objeto que quisermos mudar dentro de um tuplo for uma lista"
   ]
  },
  {
   "cell_type": "markdown",
   "metadata": {},
   "source": [
    "<h3>DADOS TIPO SET<strong>{}</strong></h3>\n",
    "<h2>Os set<strong> NÃO</strong> podem ser acedidos através do índice<h2>\n",
    "<h5>Coleções objetos únicos e imutáveis</h5>\n",
    "<h5>São muito usados para para remover duplicados de listas</h5>\n",
    "<h5>Também se pode extrair a <strong>união</strong> e a <strong>interseção</strong> de 2 conjuntos de objetos</h5>"
   ]
  },
  {
   "cell_type": "code",
   "execution_count": 24,
   "metadata": {},
   "outputs": [
    {
     "name": "stdout",
     "output_type": "stream",
     "text": [
      "<class 'set'>\n",
      "<class 'list'>\n",
      "<class 'set'>\n"
     ]
    }
   ],
   "source": [
    "a = {1,2,3,\"Python\"}\n",
    "b = [3,4,\"Python\"]\n",
    "c= set(b) #transforma b num set\n",
    "print(type(a))\n",
    "print(type(b))\n",
    "print(type(c))"
   ]
  },
  {
   "cell_type": "code",
   "execution_count": 28,
   "metadata": {},
   "outputs": [
    {
     "name": "stdout",
     "output_type": "stream",
     "text": [
      "{'Python', 1, 2, 3}\n",
      "{'Python', 3, 4}\n",
      "{'Python', 1, 2, 3, 4}\n"
     ]
    }
   ],
   "source": [
    "d = a.union(c) #União dos conjunto a e c\n",
    "print(a)\n",
    "print(c)\n",
    "print(d)\n"
   ]
  },
  {
   "cell_type": "code",
   "execution_count": 29,
   "metadata": {},
   "outputs": [
    {
     "name": "stdout",
     "output_type": "stream",
     "text": [
      "['Python', 1, 2, 3, 4]\n"
     ]
    }
   ],
   "source": [
    "c=list(d)#c toma o valor da conversão de d em lista\n",
    "print(c)"
   ]
  },
  {
   "cell_type": "code",
   "execution_count": 30,
   "metadata": {},
   "outputs": [
    {
     "name": "stdout",
     "output_type": "stream",
     "text": [
      "{'Python', 3}\n"
     ]
    }
   ],
   "source": [
    "print(a.intersection(b))#imprime a interseção de 2 conjuntos"
   ]
  },
  {
   "cell_type": "markdown",
   "metadata": {},
   "source": [
    "<img src=\"variaveis.png\" style=\"width:350px; height: auto;\">"
   ]
  },
  {
   "cell_type": "markdown",
   "metadata": {},
   "source": [
    "<h3>DADOS TIPO DICIONÁRIO<strong>{}</strong></h3>\n",
    "<h2>Os dicionários são mapeamentos de objetos de qualquer tipo<h2>\n",
    "<h5>Não são ordenados</h5>\n",
    "<h5>São mutáveis</h5>\n",
    "<h5>Os objetos são armazenados por chave, em vez de indice</h5>\n",
    "<h5>Trata-se de um conjunto de pares chave-valor</h5>\n",
    "<h5>As chaves de um dicionário são únicas, não se repetem</h5>"
   ]
  },
  {
   "cell_type": "code",
   "execution_count": 32,
   "metadata": {},
   "outputs": [
    {
     "name": "stdout",
     "output_type": "stream",
     "text": [
      "<class 'dict'>\n",
      "3\n",
      "dict_keys(['Instituição', 'Nome da UFCD', 'UFCD'])\n",
      "dict_values(['IEFP', 'Fundamentos de Python', 10793])\n",
      "IEFP\n",
      "Fundamentos de Python\n"
     ]
    }
   ],
   "source": [
    "a ={\"Instituição\":\"IEFP\", \"Nome da UFCD\":\"Fundamentos de Python\", \"UFCD\":10793}\n",
    "print(type(a))\n",
    "print(len(a))\n",
    "print(a.keys())\n",
    "print(a.values())\n",
    "print(a.get(\"Instituição\"))\n",
    "print(a[\"Nome da UFCD\"])\n"
   ]
  },
  {
   "cell_type": "code",
   "execution_count": 43,
   "metadata": {},
   "outputs": [
    {
     "name": "stdout",
     "output_type": "stream",
     "text": [
      "{'Instituição': 'IEFP', 'UFCD': 10793}\n",
      "{'Instituição': 'IEFP'}\n",
      "{'Instituição': 'IEFP', 'Nome da UFCD': 'Programação Avançada com Python'}\n",
      "{'Instituição': 'IEFP', 'Nome da UFCD': 'Programação Avançada com Python'}\n",
      "{'Instituição': 'IEFP', 'Nome da UFCD': 'Programação Avançada com Python', 'UFCD': 10793}\n",
      "{'Instituição': 'IEFP', 'Nome da UFCD': 'Programação Avançada com Python', 'UFCD': 10793}\n",
      "{'Instituição': 'IEFP', 'Nome da UFCD': 'Programação Avançada com Python', 'UFCD': 10794}\n"
     ]
    }
   ],
   "source": [
    "a = {\"Instituição\": \"IEFP\", \"Nome da UFCD\": \"Fundamentos de Python\", \"UFCD\": 10793}\n",
    "a.pop(\"Nome da UFCD\")  # apaga o oobjeto\n",
    "print(a)\n",
    "del a[\"UFCD\"]  # apaga o oobjeto\n",
    "print(a)\n",
    "a[\"Nome da UFCD\"] = \"Programação Avançada com Python\"\n",
    "print(a)\n",
    "# se a entrada já existe não é possível mudar com este método\n",
    "a.setdefault(\"Nome da UFCD\", \"Programação Avançada de Python\")\n",
    "print(a)\n",
    "a.setdefault(\"UFCD\", 10793)\n",
    "print(a)\n",
    "# se a entrada já existe não é possível mudar com este método\n",
    "a.setdefault(\"UFCD\", 10794)\n",
    "print(a)\n",
    "a[\"UFCD\"] = 10794  # altera com sucesso o valor da chave UFCD\n",
    "print(a)"
   ]
  },
  {
   "cell_type": "code",
   "execution_count": 45,
   "metadata": {},
   "outputs": [
    {
     "name": "stdout",
     "output_type": "stream",
     "text": [
      "{'Instituição': 'IEFP', 'Nome da UFCD nível 1': 'Fundamentos de Python', 'UFCD nr1': 10793}\n",
      "{'Instituição': 'IEFP', 'Nome da UFCD nível 1': 'Fundamentos de Python', 'UFCD nr1': 10793, 'Nome da UFCD nível 2': 'Programação Avançada com Python', 'UFCD nr2': 10794}\n"
     ]
    }
   ],
   "source": [
    "a = {\"Instituição\":\"IEFP\", \"Nome da UFCD nível 1\": \"Fundamentos de Python\", \"UFCD nr1\":10793}\n",
    "b = {\"Instituição\":\"IEFP\", \"Nome da UFCD nível 2\": \"Programação Avançada com Python\", \"UFCD nr2\":10794}\n",
    "print(a)\n",
    "a.update(b) # une os dois dicionários, não repete ois objetos iguais\n",
    "print(a)\n"
   ]
  },
  {
   "cell_type": "markdown",
   "metadata": {},
   "source": [
    "<h4>DADOS BOOLEANOS E OPERADORES RELACIONAIS E CONDICONAIS</h4>\n",
    "<h3>Dados booleanos: True e False<h3>\n",
    "<h4>Operadores Relacionais: </h4>\n",
    "<h4>DADOS BOOLEANOS E OPERADORES RELACIONAIS E CONDICONAIS</h4>\n",
    "<h5>!= Comparação entre dois valores devolve TRUE se forem diferentes</h5>\n",
    "<h5>> maior</h5>\n",
    "<h5>< menor</h5>\n",
    "<h5>>=maior ou igual</h5>\n",
    "<h5><=menor ou igual</h5><br/>\n",
    "<h5>+= adição que incrementa o próprio valor</h5>\n",
    "<h5>-= subtração que diminui o próprio valor</h5>\n",
    "<h5>*= multiplicação que incrementa o próprio valor</h5>\n",
    "<h5>/= divisão que diminui o próprio valor</h5><br/>\n",
    "<h4>Operadores Condicionais: </h4>\n",
    "<h5><strong>and</strong>  devolve verdadeiro se ambos os operandos forem verdadeiros</h5>\n",
    "<h5><strong>or</strong>  devolve verdadeiro seum dos operandos for verdadeiro</h5>\n",
    "<h5><strong>not</strong>  negação</h5><br/>\n",
    "<h5><strong>in</strong>  devolve verdadeiro se encontrar uma variável numa sequência</h5>\n",
    "<h5><strong>not in</strong>  devolve verdadeiro se não encontrar uma variável numa sequência</h5>\n",
    "<h5><strong>is</strong>  devolve verdadeiro ambos os operandos apontarem para o mesmo objeto</h5>\n",
    "<h5><strong>is not</strong>  devolve verdadeiro ambos os operandos apontarem para objetos diferentes</h5>"
   ]
  },
  {
   "cell_type": "markdown",
   "metadata": {},
   "source": [
    "<h4>PROGRAMAÇÃO CONDICIONAL</h4>\n",
    "<h5>if / elif / else</h4>\n",
    "<h6>finalizar com : e identar o código, se não dá erro de identação</h6>\n"
   ]
  },
  {
   "cell_type": "code",
   "execution_count": 10,
   "metadata": {},
   "outputs": [
    {
     "name": "stdout",
     "output_type": "stream",
     "text": [
      "False\n",
      "True\n",
      "False\n",
      "False\n",
      "True\n",
      "False\n",
      "False\n",
      "True\n",
      "False\n"
     ]
    }
   ],
   "source": [
    "s1=\"Bom dia!\"\n",
    "s2=\"BOM DIA!\"\n",
    "s3=\"Bom dia \"\n",
    "s4=\"Bom  dia!\"\n",
    "\n",
    "print(s1<s2)\n",
    "print(s1>s2)\n",
    "print(s1==s2)\n",
    "print(s1<s3)\n",
    "print(s1>s3)\n",
    "print(s1==s3)\n",
    "print(s1<s4)\n",
    "print(s1>s4)\n",
    "print(s1==s4)\n"
   ]
  },
  {
   "cell_type": "code",
   "execution_count": 1,
   "metadata": {},
   "outputs": [
    {
     "name": "stdout",
     "output_type": "stream",
     "text": [
      "False\n"
     ]
    }
   ],
   "source": [
    "s5=66\n",
    "s6=\"B\"\n",
    "print(s5==s6)"
   ]
  }
 ],
 "metadata": {
  "kernelspec": {
   "display_name": "Python 3",
   "language": "python",
   "name": "python3"
  },
  "language_info": {
   "codemirror_mode": {
    "name": "ipython",
    "version": 3
   },
   "file_extension": ".py",
   "mimetype": "text/x-python",
   "name": "python",
   "nbconvert_exporter": "python",
   "pygments_lexer": "ipython3",
   "version": "3.12.1"
  }
 },
 "nbformat": 4,
 "nbformat_minor": 2
}
