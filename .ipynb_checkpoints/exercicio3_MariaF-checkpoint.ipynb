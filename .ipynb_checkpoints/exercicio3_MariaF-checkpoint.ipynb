{
 "cells": [
  {
   "cell_type": "markdown",
   "id": "32593800",
   "metadata": {},
   "source": [
    "As classes são tipos de dados abstratos que podemos definir para representar um objeto desse tipo.\n",
    "Criamos objetos do tipo classe, os quais têm o comportamento de acordo com as carateríosticas da classe a que pertencem.\n"
   ]
  }
 ],
 "metadata": {
  "kernelspec": {
   "display_name": "Python 3 (ipykernel)",
   "language": "python",
   "name": "python3"
  },
  "language_info": {
   "codemirror_mode": {
    "name": "ipython",
    "version": 3
   },
   "file_extension": ".py",
   "mimetype": "text/x-python",
   "name": "python",
   "nbconvert_exporter": "python",
   "pygments_lexer": "ipython3",
   "version": "3.12.1"
  }
 },
 "nbformat": 4,
 "nbformat_minor": 5
}
