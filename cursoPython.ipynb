{
 "cells": [
  {
   "cell_type": "code",
   "execution_count": 4,
   "metadata": {},
   "outputs": [
    {
     "name": "stdout",
     "output_type": "stream",
     "text": [
      "The Zen of Python, by Tim Peters\n",
      "\n",
      "Beautiful is better than ugly.\n",
      "Explicit is better than implicit.\n",
      "Simple is better than complex.\n",
      "Complex is better than complicated.\n",
      "Flat is better than nested.\n",
      "Sparse is better than dense.\n",
      "Readability counts.\n",
      "Special cases aren't special enough to break the rules.\n",
      "Although practicality beats purity.\n",
      "Errors should never pass silently.\n",
      "Unless explicitly silenced.\n",
      "In the face of ambiguity, refuse the temptation to guess.\n",
      "There should be one-- and preferably only one --obvious way to do it.\n",
      "Although that way may not be obvious at first unless you're Dutch.\n",
      "Now is better than never.\n",
      "Although never is often better than *right* now.\n",
      "If the implementation is hard to explain, it's a bad idea.\n",
      "If the implementation is easy to explain, it may be a good idea.\n",
      "Namespaces are one honking great idea -- let's do more of those!\n"
     ]
    }
   ],
   "source": [
    "import this"
   ]
  },
  {
   "cell_type": "markdown",
   "metadata": {},
   "source": [
    "<h3 Style = \"color: rgb(75,150,200)\"> <strong>O Zen do Python </strong></h3>\n",
    "<p style=\"fonte-size:12\">\n",
    "Bonito é melhor que feio.<br>\n",
    "Explícito é melhor que implícito.<br>\n",
    "Simples é melhor que complexo.<br>\n",
    "Complexo é melhor que complicado.<br>\n",
    "Plano é melhor que aninhado.<br>\n",
    "Disperso é melhor que denso.<br>\n",
    "A legibilidade conta.<br>\n",
    "Casos especiais não são especiais o suficiente para quebrar as regras.<br>\n",
    "Embora a praticidade vence a pureza.<br>\n",
    "Os erros nunca devem passar silenciosamente.<br>\n",
    "A menos que seja explicitamente silenciado.<br>\n",
    "Diante da ambiguidade, recuse a tentação de adivinhar.<br>\n",
    "Deveria haver uma - e de preferência apenas uma - maneira óbvia de fazer isso.<br>\n",
    "Embora essa forma possa não ser óbvia à primeira vista, a menos que você seja holandês.<br>\n",
    "Agora é melhor do que nunca.<br>\n",
    "Embora nunca seja frequentemente melhor do que *já*.<br>\n",
    "Se a implementação for difícil de explicar, é uma má ideia.<br>\n",
    "Se a implementação for fácil de explicar, pode ser uma boa ideia.<br>\n",
    "Namespaces são uma ótima ideia - vamos ter mais dessas!\n",
    "</p>"
   ]
  },
  {
   "cell_type": "code",
   "execution_count": 5,
   "metadata": {},
   "outputs": [
    {
     "name": "stdout",
     "output_type": "stream",
     "text": [
      "Olá mundo!\n",
      "Olá 5\n"
     ]
    }
   ],
   "source": [
    "print(\"Olá mundo!\")\n",
    "# print(\"olá\" + 5) dá erro: TypeError: can only concatenate str (not \"int\") to str\n",
    "print(\"Olá\", 5)"
   ]
  },
  {
   "cell_type": "markdown",
   "metadata": {},
   "source": [
    "<h3 Style = \"color: rgb(75,150,200)\"> <strong>Variáveis </strong></h3>\n",
    "<p style=\"fonte-size:12\">"
   ]
  },
  {
   "cell_type": "code",
   "execution_count": 14,
   "metadata": {},
   "outputs": [
    {
     "name": "stdout",
     "output_type": "stream",
     "text": [
      "Maria , 40 anos, 65 kgs! - you whish!\n"
     ]
    }
   ],
   "source": [
    "nome = \"Maria\"\n",
    "idade = 40\n",
    "peso = 65\n",
    "print(nome, \",\", idade, \"anos,\", peso, \"kgs!\", \"- you whish!\")"
   ]
  },
  {
   "cell_type": "code",
   "execution_count": 16,
   "metadata": {},
   "outputs": [
    {
     "name": "stdout",
     "output_type": "stream",
     "text": [
      "Maria , 45 anos, 50 kgs! - you whish!\n"
     ]
    }
   ],
   "source": [
    "nome = input(\"Qual é o seu nome?\")\n",
    "idade = input(\"Qual é a sua idade?\")\n",
    "peso = input(\"Qual é o seu peso?\")\n",
    "print(nome, \",\", idade, \"anos,\", peso, \"kgs!\", \"- you whish!\")"
   ]
  },
  {
   "cell_type": "code",
   "execution_count": 18,
   "metadata": {},
   "outputs": [
    {
     "name": "stdout",
     "output_type": "stream",
     "text": [
      "É um prazer conhecer-te, Ambrósia Teodora! Bem-vindo(a)!\n",
      "É um prazer conhecer-te, Ambrósia Teodora! Bem-vindo(a)!\n"
     ]
    }
   ],
   "source": [
    "nome = input(\"Qual é o seu noem?\")\n",
    "print(\"É um prazer conhecer-te, {}! Bem-vindo(a)!\".format(nome))\n",
    "print(f\"É um prazer conhecer-te, {nome}! Bem-vindo(a)!\")"
   ]
  },
  {
   "cell_type": "code",
   "execution_count": 21,
   "metadata": {},
   "outputs": [
    {
     "name": "stdout",
     "output_type": "stream",
     "text": [
      "Nasceu em 11 de Janeiro de 1963! Acertei, não foi?\n"
     ]
    }
   ],
   "source": [
    "dia = input(\"Indique o dia do seu nascimento: \")\n",
    "mes = input(\"Indique o mês do seu nascimento: \")\n",
    "ano = input(\"Indique o ano do seu nascimento: \")\n",
    "print(f\"Nasceu em {dia} de {mes} de {ano}! Acertei, não foi?\")"
   ]
  },
  {
   "cell_type": "code",
   "execution_count": 1,
   "metadata": {},
   "outputs": [
    {
     "name": "stdout",
     "output_type": "stream",
     "text": [
      "A soma de 45.0, com 15.0 é  60.0\n",
      "<class 'float'>\n",
      "<class 'float'>\n"
     ]
    }
   ],
   "source": [
    "numero1 = float(input(\"Indique o primeiro número: \"))\n",
    "numero2 = float(input(\"Indique o segundo número: \"))\n",
    "print(f\"A soma de {numero1}, com {numero2} é \", numero1+numero2)\n",
    "print(type(numero1))\n",
    "print(type(numero2))"
   ]
  },
  {
   "cell_type": "code",
   "execution_count": 14,
   "metadata": {},
   "outputs": [
    {
     "name": "stdout",
     "output_type": "stream",
     "text": [
      "Boneca\n",
      "É numérico? False\n",
      "É alfabético? True\n",
      "Está em maiúsculas? False\n",
      "É alfanumérico? True\n",
      "É valor ASCII? True\n",
      "É decimal? False\n",
      "É um digito? False\n",
      "É um identificador? True\n",
      "Está em minúsclas? False\n",
      "Pode ser imprimido? True\n",
      "Só tem espaços? False\n",
      "Tem amiúsculas e minúsculas? True\n",
      "<class 'str'>\n"
     ]
    }
   ],
   "source": [
    "entrada = input(\"Digite alguma coisa: \")\n",
    "print(entrada)\n",
    "print(\"É numérico?\", entrada.isnumeric())\n",
    "print(\"É alfabético?\", entrada.isalpha())\n",
    "print(\"Está em maiúsculas?\", entrada.isupper())\n",
    "print(\"É alfanumérico?\", entrada.isalnum())\n",
    "print(\"É valor ASCII?\", entrada.isascii())\n",
    "print(\"É decimal?\", entrada.isdecimal())\n",
    "print(\"É um digito?\", entrada.isdigit())\n",
    "print(\"É um identificador?\", entrada.isidentifier())\n",
    "print(\"Está em minúsclas?\", entrada.islower())\n",
    "print(\"Pode ser imprimido?\", entrada.isprintable())\n",
    "print(\"Só tem espaços?\", entrada.isspace())\n",
    "print(\"Tem amiúsculas e minúsculas?\", entrada.istitle())\n",
    "print(type(entrada))"
   ]
  },
  {
   "cell_type": "code",
   "execution_count": 15,
   "metadata": {},
   "outputs": [
    {
     "name": "stdout",
     "output_type": "stream",
     "text": [
      "7A8wf9P7\n",
      "É numérico? False\n",
      "É alfabético? False\n",
      "Está em maiúsculas? False\n",
      "É alfanumérico? True\n",
      "É valor ASCII? True\n",
      "É decimal? False\n",
      "É um digito? False\n",
      "É um identificador? False\n",
      "Está em minúsclas? False\n",
      "Pode ser imprimido? True\n",
      "Só tem espaços? False\n",
      "Tem amiúsculas e minúsculas? False\n",
      "<class 'str'>\n"
     ]
    }
   ],
   "source": [
    "entrada = input(\"Digite alguma coisa: \")\n",
    "print(entrada)\n",
    "print(\"É numérico?\", entrada.isnumeric())\n",
    "print(\"É alfabético?\", entrada.isalpha())\n",
    "print(\"Está em maiúsculas?\", entrada.isupper())\n",
    "print(\"É alfanumérico?\", entrada.isalnum())\n",
    "print(\"É valor ASCII?\", entrada.isascii())\n",
    "print(\"É decimal?\", entrada.isdecimal())\n",
    "print(\"É um digito?\", entrada.isdigit())\n",
    "print(\"É um identificador?\", entrada.isidentifier())\n",
    "print(\"Está em minúsclas?\", entrada.islower())\n",
    "print(\"Pode ser imprimido?\", entrada.isprintable())\n",
    "print(\"Só tem espaços?\", entrada.isspace())\n",
    "print(\"Tem amiúsculas e minúsculas?\", entrada.istitle())\n",
    "print(type(entrada))"
   ]
  },
  {
   "cell_type": "code",
   "execution_count": 17,
   "metadata": {},
   "outputs": [
    {
     "name": "stdout",
     "output_type": "stream",
     "text": [
      "45.78\n",
      "É numérico? False\n",
      "É alfabético? False\n",
      "Está em maiúsculas? False\n",
      "É alfanumérico? False\n",
      "É valor ASCII? True\n",
      "É decimal? False\n",
      "É um digito? False\n",
      "É um identificador? False\n",
      "Está em minúsclas? False\n",
      "Pode ser imprimido? True\n",
      "Só tem espaços? False\n",
      "Tem amiúsculas e minúsculas? False\n",
      "<class 'str'>\n"
     ]
    }
   ],
   "source": [
    "entrada = input(\"Digite alguma coisa: \")\n",
    "print(entrada)\n",
    "print(\"É numérico?\", entrada.isnumeric())\n",
    "print(\"É alfabético?\", entrada.isalpha())\n",
    "print(\"Está em maiúsculas?\", entrada.isupper())\n",
    "print(\"É alfanumérico?\", entrada.isalnum())\n",
    "print(\"É valor ASCII?\", entrada.isascii())\n",
    "print(\"É decimal?\", entrada.isdecimal())\n",
    "print(\"É um digito?\", entrada.isdigit())\n",
    "print(\"É um identificador?\", entrada.isidentifier())\n",
    "print(\"Está em minúsclas?\", entrada.islower())\n",
    "print(\"Pode ser imprimido?\", entrada.isprintable())\n",
    "print(\"Só tem espaços?\", entrada.isspace())\n",
    "print(\"Tem amiúsculas e minúsculas?\", entrada.istitle())\n",
    "print(type(entrada))"
   ]
  },
  {
   "cell_type": "markdown",
   "metadata": {},
   "source": [
    "<h3 Style = \"color: rgb(75,150,200)\"> <strong>Operadores aritméticos </strong></h3>\n",
    "<p style=\"fonte-size:12\">"
   ]
  },
  {
   "cell_type": "code",
   "execution_count": 6,
   "metadata": {},
   "outputs": [
    {
     "name": "stdout",
     "output_type": "stream",
     "text": [
      "7\n",
      "3\n",
      "10\n",
      "2.5\n",
      "25\n",
      "2\n",
      "1\n",
      "625\n",
      "11\n",
      "9\n",
      "9.5\n",
      "18446744073709551616\n",
      "\n",
      "719281585292469709351383367279589878611933789157564147000433300789151797908651760501835214758833382669689387515084336861855291222062035733360219361780562343052904496631867391172075359666148473715836612432369966297049776285450533232716953213128693348015055150920937833122601177580906672990311973238822158165566026505996274570032632917312840305917107242921520788930477298767008485514606804498976042940710184332710282636870988989843035945390069345100797221217595808526171255338592850427477458544403629720055368449475604119077674547525218642663130145626055281631685895660706396241150113249494302927745275435148055764847810137371265208317619079860086956366215364887162089100265578249230640138242741817434791096056129380451608563592013739243477896600011604269064881287562415979998177949947706220430543241298454113770754394399748557256043180536301988874807792024809498900250912360083369268825328445596687559689857916406192310516753651751877330009039252101113701375844011495798372188160769981303119083501640017241816417304200555171498574395447202467647068961978355523059550474137809227450338259583694659400922889407910708963752235397080444292836435287837914294540521581102544614326491666786340172787587371174001483773725740788123183219198765388455987265426046482492808590246511441816729353694445845650756404853772321057616156367548198158336\n",
      "\n",
      "64\n"
     ]
    }
   ],
   "source": [
    "print(5+2)\n",
    "print(5-2)\n",
    "print(5*2)\n",
    "print(5/2)\n",
    "print(5**2)\n",
    "print(5//2)\n",
    "print(5 % 2)\n",
    "print(5**4)\n",
    "print(5+3*2)\n",
    "print(19//2)\n",
    "print(19/2)\n",
    "print(2**64)\n",
    "print(\"\")\n",
    "print(356**522)\n",
    "print(\"\")\n",
    "print(pow(4, 3))"
   ]
  },
  {
   "cell_type": "code",
   "execution_count": 10,
   "metadata": {},
   "outputs": [
    {
     "name": "stdout",
     "output_type": "stream",
     "text": [
      "9.0\n",
      "2.0\n",
      "9.494436724624347\n"
     ]
    }
   ],
   "source": [
    "print(81**(1/2))\n",
    "print(8**(1/3))\n",
    "print(8126**(1/4))"
   ]
  },
  {
   "cell_type": "code",
   "execution_count": 20,
   "metadata": {},
   "outputs": [
    {
     "name": "stdout",
     "output_type": "stream",
     "text": [
      "olá olá olá olá olá \n",
      "====================\n",
      "prazer em conhecer-te Irene!!\n",
      "prazer em conhecer-te Irene               !!\n",
      "prazer em conhecer-te                Irene!!\n",
      "prazer em conhecer-te Irene               !!\n",
      "prazer em conhecer-te        Irene        !!\n",
      "prazer em conhecer-te -------Irene--------!!\n",
      "prazer em conhecer-te =======Irene========!!\n"
     ]
    }
   ],
   "source": [
    "print(\"olá \"*5)\n",
    "print(\"=\"*20)\n",
    "nome = input(\"Qual é o teu nome?\")\n",
    "print(\"prazer em conhecer-te {}!!\".format(nome))\n",
    "# por defeito em 20espaço alinhado à esquerda\n",
    "print(\"prazer em conhecer-te {:20}!!\".format(nome))\n",
    "print(\"prazer em conhecer-te {:>20}!!\".format(nome))  # alinhado à direita\n",
    "print(\"prazer em conhecer-te {:<20}!!\".format(nome))  # alinhado à esquerda\n",
    "print(\"prazer em conhecer-te {:^20}!!\".format(nome))  # centrado\n",
    "# centrado prenchendo os espaço com hifen\n",
    "print(\"prazer em conhecer-te {:-^20}!!\".format(nome))\n",
    "# centrado prenchendo os espaço com igual\n",
    "print(\"prazer em conhecer-te {:=^20}!!\".format(nome))"
   ]
  },
  {
   "cell_type": "code",
   "execution_count": 31,
   "metadata": {},
   "outputs": [
    {
     "name": "stdout",
     "output_type": "stream",
     "text": [
      "23 e 4\n",
      "A soma é 27, a diferença é 19, o produto é 92 e a divisão é 5.750000\n",
      "A divisão inteira é 5, o resto da divisão é 3 e a potência é 279841\n"
     ]
    }
   ],
   "source": [
    "n1 = int(input(\"Indique o primeiro número: \"))\n",
    "n2 = int(input(\"Indique o segundo número: \"))\n",
    "s = n1+n2\n",
    "su = n1-n2\n",
    "m = n1*n2\n",
    "d = n1/n2\n",
    "di = n1//n2\n",
    "e = n1**n2\n",
    "r = n1 % n2\n",
    "print(\"{} e {}\".format(n1, n2))\n",
    "print(\"A soma é {}, a diferença é {}, o produto é {} e a divisão é {:.6f}\".format(s, su, m, d))\n",
    "print(\"A divisão inteira é {}, o resto da divisão é {} e a potência é {}\".format(di, r, e))\n",
    "# para imprimir numa só linha, no final do primeiro print escrever .format(s, su, m, d), end=' '), que vai deixar um espaço e continuar a escrever. dentro da ' '  possso por em vez de espaço alguns sinais de maior ou outros sinais."
   ]
  },
  {
   "cell_type": "code",
   "execution_count": 2,
   "metadata": {},
   "outputs": [
    {
     "name": "stdout",
     "output_type": "stream",
     "text": [
      "Escolheu o número 76.\n",
      " O seu sucessor é 77, e \n",
      " O seu antecessor é 75\n"
     ]
    }
   ],
   "source": [
    "# Programa que lê um número e mostra o seu sucessor e o seu antecessor\n",
    "n1 = int(input(\"Indique um número inteiro: \"))\n",
    "print(\"Escolheu o número {}.\\n O seu sucessor é {}, e \\n O seu antecessor é {}\".format(\n",
    "    n1, n1+1, n1-1))"
   ]
  },
  {
   "cell_type": "code",
   "execution_count": 5,
   "metadata": {},
   "outputs": [
    {
     "name": "stdout",
     "output_type": "stream",
     "text": [
      "Escolheu o número 36. \n",
      "O dobro dele é 72, \n",
      "O triplo é 108 e \n",
      " raiz quadrada é 6.000\n"
     ]
    }
   ],
   "source": [
    "# Programa que  lê um número e mostra o seu dobro o seu triplo e a raiz quadrada\n",
    "n2 = int(input(\"Indique um número inteiro: \"))\n",
    "print(\"Escolheu o número {}. \\nO dobro dele é {}, \\nO triplo é {} e \\n raiz quadrada é {:.3f}\".format(\n",
    "    n2, 2*n2, 3*n2, n2**(1/2)))"
   ]
  },
  {
   "cell_type": "code",
   "execution_count": 9,
   "metadata": {},
   "outputs": [
    {
     "name": "stdout",
     "output_type": "stream",
     "text": [
      "A primeira nota foi: 12.5 e a segunda foi: 19.5.\n",
      "A média das duas notas é: 16.0000\n"
     ]
    }
   ],
   "source": [
    "# programa que lê duas notas de um aluno e calcula a sua média\n",
    "nota1 = float(input(\"Indique a primeira nota: \"))\n",
    "nota2 = float(input(\"Indique a segunda nota: \"))\n",
    "print(\"A primeira nota foi: {} e a segunda foi: {}.\\nA média das duas notas é: {:.4f}\".format(\n",
    "    nota1, nota2, ((nota1+nota2)/2)))"
   ]
  },
  {
   "cell_type": "code",
   "execution_count": 12,
   "metadata": {},
   "outputs": [
    {
     "name": "stdout",
     "output_type": "stream",
     "text": [
      "O valor de 3.0000 metros representa 300.00 centímetros e 3000.0 milímetros\n"
     ]
    }
   ],
   "source": [
    "# Programa que lê um valor em metros e converte-o em centimetros e em milimetros\n",
    "valor = float(input(\"Indique um valor em metros: \"))\n",
    "print(\"O valor de {:.4f} metros representa {:.2f} centímetros e {} milímetros\".format(\n",
    "    valor, valor*100, valor*1000))"
   ]
  },
  {
   "cell_type": "code",
   "execution_count": 34,
   "metadata": {},
   "outputs": [
    {
     "name": "stdout",
     "output_type": "stream",
     "text": [
      " 9 X  1 =  9\n",
      " 9 X  2 = 18\n",
      " 9 X  3 = 27\n",
      " 9 X  4 = 36\n",
      " 9 X  5 = 45\n",
      " 9 X  6 = 54\n",
      " 9 X  7 = 63\n",
      " 9 X  8 = 72\n",
      " 9 X  9 = 81\n",
      " 9 X 10 = 90\n"
     ]
    }
   ],
   "source": [
    "# Programa que mostra no ecrâ a tabuada de um número\n",
    "num = int(input(\"Indique um número inteiro: \"))\n",
    "intervalo = range(1, 11, 1)\n",
    "for i in intervalo:\n",
    "    print(\"{:2} X {:2} = {:2}\".format(num, i, num*i))"
   ]
  },
  {
   "cell_type": "code",
   "execution_count": 35,
   "metadata": {},
   "outputs": [
    {
     "name": "stdout",
     "output_type": "stream",
     "text": [
      "Por 150.00 Euros, recebe 162.56 Dólares\n"
     ]
    }
   ],
   "source": [
    "# Programa que converte euros em dólares - cotação: 1EUR =1.0837USD\n",
    "euros = float(input(\"Quantos euros vai cambiar por doláres: \"))\n",
    "dolares = euros*1.0837\n",
    "print(\"Por {:.2f} Euros, recebe {:.2f} Dólares\".format(euros, dolares))"
   ]
  },
  {
   "cell_type": "code",
   "execution_count": 36,
   "metadata": {},
   "outputs": [
    {
     "name": "stdout",
     "output_type": "stream",
     "text": [
      "A altura da parede são 5.45 metros\n",
      " A largura da parede são 2.65 metros.\n",
      "\n",
      "A área da parede são 14.44 metros quadrados, pelo que \n",
      " São necessários 7.2 litros de trinta para pintar a parede.\n"
     ]
    }
   ],
   "source": [
    "# Programa que lê a altura e largura de uma parede, calcula a sua área e a quantidade de tinta necessária para pintá-la, sabendo que o rendimento da tinta é 1 litro/ 2 m^2\n",
    "altura = float(input(\"Qual a altura da parede a pintar: \"))\n",
    "largura = float(input(\"Qual a largura da parede: \"))\n",
    "area = altura * largura\n",
    "tinta = area / 2\n",
    "print(\"A altura da parede são {:.2f} metros\\n A largura da parede são {:.2f} metros.\".format(\n",
    "    altura, largura))\n",
    "print(\"\\nA área da parede são {:.2f} metros quadrados, pelo que \\n São necessários {:.1f} litros de trinta para pintar a parede.\".format(\n",
    "    area, tinta))"
   ]
  },
  {
   "cell_type": "code",
   "execution_count": 37,
   "metadata": {},
   "outputs": [
    {
     "name": "stdout",
     "output_type": "stream",
     "text": [
      "O preço inicial do produto é 45.00 e \n",
      "O novo preço será 42.75\n"
     ]
    }
   ],
   "source": [
    "# Programa que lê o preço de um produto e mostra o seu novo preço com um desconto de 5%\n",
    "precoInicial = float(input(\"Qual é o preço atual do produto: \"))\n",
    "precofinal = precoInicial*0.95\n",
    "print(\"O preço inicial do produto é {:.2f} e \\nO novo preço será {:.2f}\".format(\n",
    "    precoInicial, precofinal))"
   ]
  },
  {
   "cell_type": "code",
   "execution_count": 39,
   "metadata": {},
   "outputs": [
    {
     "name": "stdout",
     "output_type": "stream",
     "text": [
      "O salário atual é 1250.00 e \n",
      "O novo salário será 1437.50\n"
     ]
    }
   ],
   "source": [
    "# Programa que lê o slário de um funcionário e mostra o seu novo salário com um aumento de 15%\n",
    "salarioAtual = float(input(\"Qual é o salário atual do funcionário: \"))\n",
    "print(\"O salário atual é {:.2f} e \\nO novo salário será {:.2f}\".format(\n",
    "    salarioAtual, salarioAtual*1.15))"
   ]
  },
  {
   "cell_type": "code",
   "execution_count": 44,
   "metadata": {},
   "outputs": [
    {
     "name": "stdout",
     "output_type": "stream",
     "text": [
      "A tempuratura de 28.00 graus celsius, corresponde a 82.40 graus Farenheit\n"
     ]
    }
   ],
   "source": [
    "# Programa que lê a temperatura em graus celsius e converta em graus fahrenheit\n",
    "celsius = float(input(\"Indique a temperatura em graus Celsius:\"))\n",
    "Fahrenheit = ((9*celsius)/5)+32\n",
    "# também funciona com 9*celsius/5+32, devido à ordem de precedência das operações\n",
    "print(\"A tempuratura de {:.2f} graus celsius, corresponde a {:.2f} graus Farenheit\".format(\n",
    "    celsius, Fahrenheit))"
   ]
  },
  {
   "cell_type": "code",
   "execution_count": 49,
   "metadata": {},
   "outputs": [
    {
     "name": "stdout",
     "output_type": "stream",
     "text": [
      "A viatura percorreu 500.0 quilómetros\n",
      "Este alugada 5 dias\n",
      "O valor a pagar pelos quilómetros é 200.00 Euros\n",
      "O valor a pagar pelo aluguer é 300.00 Euros\n",
      "O valor total a pagar é 500.00 Euros\n"
     ]
    }
   ],
   "source": [
    "kms = float(input(\"Quilometros percorridos com a viatura: \"))\n",
    "dias = int(input(\"Dias de aluguer da viatura: \"))\n",
    "valorKms = kms * 0.40\n",
    "valorAluguer = dias * 60\n",
    "print(\"A viatura percorreu {} quilómetros\\nEste alugada {} dias\".format(kms, dias))\n",
    "print (\"O valor a pagar pelos quilómetros é {:.2f} Euros\\nO valor a pagar pelo aluguer é {:.2f} Euros\".format(valorKms, valorAluguer))\n",
    "print(\"O valor total a pagar é {:.2f} Euros\".format(valorKms+valorAluguer))"
   ]
  },
  {
   "cell_type": "code",
   "execution_count": 56,
   "metadata": {},
   "outputs": [
    {
     "name": "stdout",
     "output_type": "stream",
     "text": [
      "<class 'module'>\n",
      "['__doc__', '__loader__', '__name__', '__package__', '__spec__', 'acos', 'acosh', 'asin', 'asinh', 'atan', 'atan2', 'atanh', 'cbrt', 'ceil', 'comb', 'copysign', 'cos', 'cosh', 'degrees', 'dist', 'e', 'erf', 'erfc', 'exp', 'exp2', 'expm1', 'fabs', 'factorial', 'floor', 'fmod', 'frexp', 'fsum', 'gamma', 'gcd', 'hypot', 'inf', 'isclose', 'isfinite', 'isinf', 'isnan', 'isqrt', 'lcm', 'ldexp', 'lgamma', 'log', 'log10', 'log1p', 'log2', 'modf', 'nan', 'nextafter', 'perm', 'pi', 'pow', 'prod', 'radians', 'remainder', 'sin', 'sinh', 'sqrt', 'sumprod', 'tan', 'tanh', 'tau', 'trunc', 'ulp']\n",
      " \n",
      "['__call__', '__class__', '__delattr__', '__dir__', '__doc__', '__eq__', '__format__', '__ge__', '__getattribute__', '__getstate__', '__gt__', '__hash__', '__init__', '__init_subclass__', '__le__', '__lt__', '__module__', '__name__', '__ne__', '__new__', '__qualname__', '__reduce__', '__reduce_ex__', '__repr__', '__self__', '__setattr__', '__sizeof__', '__str__', '__subclasshook__', '__text_signature__']\n"
     ]
    }
   ],
   "source": [
    "import math\n",
    "print(type(math))\n",
    "print(dir(math))\n",
    "print(\" \")\n",
    "print(dir(math.erf))"
   ]
  },
  {
   "cell_type": "code",
   "execution_count": 60,
   "metadata": {},
   "outputs": [
    {
     "name": "stdout",
     "output_type": "stream",
     "text": [
      " A raiz quadrada de 29 é 6.0000\n",
      " A raiz quadrada de 29 é 5.3852\n"
     ]
    }
   ],
   "source": [
    "import math\n",
    "num = int(input(\"Digite um número: \"))\n",
    "raiz = math.sqrt(num) \n",
    "print(\" A raiz quadrada de {} é {:.4f}\".format(num, math.ceil(raiz)))\n",
    "print(\" A raiz quadrada de {} é {:.4f}\".format(num, raiz))"
   ]
  },
  {
   "cell_type": "code",
   "execution_count": 62,
   "metadata": {},
   "outputs": [
    {
     "name": "stdout",
     "output_type": "stream",
     "text": [
      " A raiz quadrada de 41 é 7.0000\n",
      " A raiz quadrada de 41 é 6.4031\n"
     ]
    }
   ],
   "source": [
    "from math import sqrt\n",
    "num = int(input(\"Digite um número: \"))\n",
    "raiz = sqrt(num)\n",
    "print(\" A raiz quadrada de {} é {:.4f}\".format(num, math.ceil(raiz)))\n",
    "print(\" A raiz quadrada de {} é {:.4f}\".format(num, raiz))"
   ]
  },
  {
   "cell_type": "code",
   "execution_count": 79,
   "metadata": {},
   "outputs": [
    {
     "name": "stdout",
     "output_type": "stream",
     "text": [
      "0.688780641938521\n",
      "5\n"
     ]
    }
   ],
   "source": [
    "import random\n",
    "valor = random.random()  # Devolve um número real entre 0 e 1\n",
    "print(valor)\n",
    "valor2 = random.randint(1,10) # devolve um número inteiro de 1 a 10\n",
    "print(valor2)"
   ]
  },
  {
   "cell_type": "code",
   "execution_count": 2,
   "metadata": {},
   "outputs": [
    {
     "name": "stdout",
     "output_type": "stream",
     "text": [
      "3.1415198736\n",
      "3\n"
     ]
    }
   ],
   "source": [
    "import math\n",
    "n = float(input(\"Indique um número real: \"))\n",
    "print(n)\n",
    "n = math.trunc(n)\n",
    "print(n)"
   ]
  },
  {
   "cell_type": "code",
   "execution_count": 4,
   "metadata": {},
   "outputs": [
    {
     "name": "stdout",
     "output_type": "stream",
     "text": [
      "Cateto Oposto: 6.0\n",
      "Cateto Adjacente: 8.0\n",
      "Hipotenusa: 10.0\n",
      "\n",
      "Hipotenusa: 10.0\n"
     ]
    }
   ],
   "source": [
    "import math\n",
    "catetoOposto = float(input(\"Indique o cumprimento do cateto oposto: \"))\n",
    "catetoAdajacente = float(input(\"Indique o cateto adjacente: \"))\n",
    "hiptenusa = math.sqrt(math.pow(catetoOposto, 2)+math.pow(catetoAdajacente, 2))\n",
    "print(\"Cateto Oposto: {}\\nCateto Adjacente: {}\\nHipotenusa: {}\".format(\n",
    "    catetoOposto, catetoAdajacente, hiptenusa))\n",
    "print(\"\\nHipotenusa: {}\".format(math.hypot(catetoOposto, catetoAdajacente)))"
   ]
  },
  {
   "cell_type": "code",
   "execution_count": 5,
   "metadata": {},
   "outputs": [
    {
     "name": "stdout",
     "output_type": "stream",
     "text": [
      "O seno do ângulo 45.0 é: 0.7071\n",
      "O cosseno do ângulo 45.0 é: 0.7071\n",
      "A tangente do ângulo 45.0 é: 1.0000\n"
     ]
    }
   ],
   "source": [
    "angulo = float(input(\"Indique o valor do angulo: \"))\n",
    "print(\"O seno do ângulo {} é: {:.4f}\".format(\n",
    "    angulo, math.sin(math.radians(angulo))))\n",
    "print(\"O cosseno do ângulo {} é: {:.4f}\".format(\n",
    "    angulo, math.cos(math.radians(angulo))))\n",
    "print(\"A tangente do ângulo {} é: {:.4f}\".format(\n",
    "    angulo, math.tan(math.radians(angulo))))"
   ]
  },
  {
   "cell_type": "code",
   "execution_count": 9,
   "metadata": {},
   "outputs": [
    {
     "name": "stdout",
     "output_type": "stream",
     "text": [
      "Alunos da turma: \n",
      "Miguel,\n",
      "Julia,\n",
      "Maria,\n",
      "João.\n",
      "\n",
      "O aluno escolhido foi: Julia\n",
      "o aluno escolhido foi: Maria\n"
     ]
    }
   ],
   "source": [
    "import random\n",
    "aluno1=input(\"Indique o nome do primeiro aluno: \")\n",
    "aluno2=input(\"Indique o nome do segundo aluno: \")\n",
    "aluno3=input(\"Indique o nome terceiro aluno: )\")\n",
    "aluno4= input(\"Indique o nome do quarto aluno: \")\n",
    "\n",
    "print(\"Alunos da turma: \\n\" + aluno1 + \",\\n\" + aluno2 + \",\\n\" + aluno3 + \",\\n\" + aluno4+ \".\\n\")\n",
    "\n",
    "alunoEscolhido= random.randint(1,4)\n",
    "#print(alunoEscolhido)\n",
    "if (alunoEscolhido == 1):\n",
    "    print (\"O aluno escolhido foi: {}\".format(aluno1))\n",
    "elif (alunoEscolhido == 2):\n",
    "    print(\"O aluno escolhido foi: {}\".format(aluno2))\n",
    "elif(alunoEscolhido == 3):\n",
    "    print(\"O aluno escolhido foi {}\".format(aluno3))\n",
    "elif(alunoEscolhido == 4):\n",
    "    print(\"O aluno escolhido foi {}\".format(aluno4))\n",
    "\n",
    "#outra solução seria:\n",
    "alunos = [aluno1, aluno2, aluno3, aluno4]\n",
    "escolhido = random.choice(alunos)\n",
    "print(\"o aluno escolhido foi: \"+escolhido)"
   ]
  },
  {
   "cell_type": "code",
   "execution_count": 18,
   "metadata": {},
   "outputs": [
    {
     "name": "stdout",
     "output_type": "stream",
     "text": [
      "['João', 'Julia', 'Maria', 'Miguel']\n",
      "['Miguel', 'João', 'Julia', 'Maria']\n"
     ]
    }
   ],
   "source": [
    "print(random.sample(alunos, k=4))\n",
    "# outra forma de resolver seria \n",
    "random.shuffle(alunos)\n",
    "print(alunos)"
   ]
  },
  {
   "cell_type": "code",
   "execution_count": 1,
   "metadata": {},
   "outputs": [
    {
     "name": "stdout",
     "output_type": "stream",
     "text": [
      "pygame 2.5.2 (SDL 2.28.3, Python 3.12.1)\n",
      "Hello from the pygame community. https://www.pygame.org/contribute.html\n"
     ]
    },
    {
     "data": {
      "text/plain": [
       "<Event(4352-AudioDeviceAdded {'which': 0, 'iscapture': 0})>"
      ]
     },
     "execution_count": 1,
     "metadata": {},
     "output_type": "execute_result"
    }
   ],
   "source": [
    "import pygame\n",
    "pygame.init()\n",
    "pygame.mixer.music.load(\"example.mp3\")\n",
    "pygame.mixer.music.play()\n",
    "pygame.event.wait()\n",
    "#deu certo"
   ]
  },
  {
   "cell_type": "markdown",
   "metadata": {},
   "source": [
    "### Fatiamento ou slicing de strings"
   ]
  },
  {
   "cell_type": "code",
   "execution_count": 9,
   "metadata": {},
   "outputs": [
    {
     "name": "stdout",
     "output_type": "stream",
     "text": [
      "V\n",
      "Vide\n",
      "Video Python\n",
      "VdoPto\n",
      "Curso\n",
      "Curso\n",
      "Python\n",
      "VePh\n"
     ]
    }
   ],
   "source": [
    "frase=\"Curso em Video Python\"\n",
    "\n",
    "print(frase[9])\n",
    "print(frase[9:13])#exclui a p+osição 13\n",
    "print(frase[9:21])#apesar de a frase só ter até à posição 20, começando no zero, como a última posição é excluída não dá erro\n",
    "print(frase[9:21:2])# igual ao anterior, mas com um salto de 2 em 2\n",
    "print(frase[:5])#todas as posições até à 5-1\n",
    "print(frase[0:5])#igual ao anterior\n",
    "print(frase[15:])#da posição 15 até ao fim\n",
    "print(frase[9::3])#Começa na posição 9 e vai até ao fim com saltos de 3 em 3"
   ]
  },
  {
   "cell_type": "markdown",
   "metadata": {},
   "source": [
    "### Análise de Strings"
   ]
  },
  {
   "cell_type": "code",
   "execution_count": 15,
   "metadata": {},
   "outputs": [
    {
     "name": "stdout",
     "output_type": "stream",
     "text": [
      "21\n"
     ]
    }
   ],
   "source": [
    "print(len(frase))"
   ]
  },
  {
   "cell_type": "code",
   "execution_count": 16,
   "metadata": {},
   "outputs": [
    {
     "data": {
      "text/plain": [
       "3"
      ]
     },
     "execution_count": 16,
     "metadata": {},
     "output_type": "execute_result"
    }
   ],
   "source": [
    "frase.count('o')#conta as ocorrências de um caracter"
   ]
  },
  {
   "cell_type": "code",
   "execution_count": 17,
   "metadata": {},
   "outputs": [
    {
     "data": {
      "text/plain": [
       "1"
      ]
     },
     "execution_count": 17,
     "metadata": {},
     "output_type": "execute_result"
    }
   ],
   "source": [
    "frase.count('o',0,13)#ocorrencias até a posição 13-1"
   ]
  },
  {
   "cell_type": "code",
   "execution_count": 18,
   "metadata": {},
   "outputs": [
    {
     "data": {
      "text/plain": [
       "11"
      ]
     },
     "execution_count": 18,
     "metadata": {},
     "output_type": "execute_result"
    }
   ],
   "source": [
    "frase.find('deo')#indica a posição en que a substring se inicia na string principal"
   ]
  },
  {
   "cell_type": "code",
   "execution_count": 20,
   "metadata": {},
   "outputs": [
    {
     "data": {
      "text/plain": [
       "-1"
      ]
     },
     "execution_count": 20,
     "metadata": {},
     "output_type": "execute_result"
    }
   ],
   "source": [
    "frase.find('Android')#retorna o valor -1 quando a substring não existe "
   ]
  },
  {
   "cell_type": "code",
   "execution_count": 21,
   "metadata": {},
   "outputs": [
    {
     "data": {
      "text/plain": [
       "True"
      ]
     },
     "execution_count": 21,
     "metadata": {},
     "output_type": "execute_result"
    }
   ],
   "source": [
    "'Curso'in frase"
   ]
  },
  {
   "cell_type": "markdown",
   "metadata": {},
   "source": [
    "### Transformação de Strings"
   ]
  },
  {
   "cell_type": "code",
   "execution_count": 23,
   "metadata": {},
   "outputs": [
    {
     "name": "stdout",
     "output_type": "stream",
     "text": [
      "Curso em Video Python\n"
     ]
    }
   ],
   "source": [
    "frase.replace('Pyhton', 'Android')#substitui numa nova string\n",
    "print(frase)"
   ]
  },
  {
   "cell_type": "code",
   "execution_count": 27,
   "metadata": {},
   "outputs": [
    {
     "name": "stdout",
     "output_type": "stream",
     "text": [
      "Curso em Video Python\n",
      "Curso em Video Python\n",
      "Curso em Video Python\n"
     ]
    }
   ],
   "source": [
    "frase.upper()#Só funciona numa nova string\n",
    "print(frase)\n",
    "frase.lower()#idem\n",
    "print(frase)\n",
    "frase.capitalize()#idem\n",
    "print(frase)\n",
    "frase.title()"
   ]
  },
  {
   "cell_type": "code",
   "execution_count": 32,
   "metadata": {},
   "outputs": [
    {
     "name": "stdout",
     "output_type": "stream",
     "text": [
      "   Aprenda Python  \n",
      "19\n",
      "Aprenda Python\n",
      "14\n"
     ]
    }
   ],
   "source": [
    "frase2=\"   Aprenda Python  \"\n",
    "frase3=frase2.strip()#retiras os espaços no incio e no fim da frase\n",
    "print(frase2)\n",
    "print(len(frase2))\n",
    "print(frase3)\n",
    "print(len(frase3))"
   ]
  },
  {
   "cell_type": "code",
   "execution_count": null,
   "metadata": {},
   "outputs": [],
   "source": [
    "frase2.rstrip()#retira as espaços à direita (do fim)\n",
    "frase.lstrip()#Retira os espaços à esquerda (no início)"
   ]
  },
  {
   "cell_type": "markdown",
   "metadata": {},
   "source": [
    "### Divisão ou slicing de strings"
   ]
  },
  {
   "cell_type": "code",
   "execution_count": 33,
   "metadata": {},
   "outputs": [
    {
     "name": "stdout",
     "output_type": "stream",
     "text": [
      "['Curso', 'em', 'Video', 'Python']\n"
     ]
    }
   ],
   "source": [
    "a=frase.split()#por defeito a divisão é feita considerando os espaços e gerando uma lista com as palavras. Cada palavra passa a ser um elemnto com o seu próprio índice\n",
    "print(a)"
   ]
  },
  {
   "cell_type": "markdown",
   "metadata": {},
   "source": [
    "### Junção de strings"
   ]
  },
  {
   "cell_type": "code",
   "execution_count": 34,
   "metadata": {},
   "outputs": [
    {
     "name": "stdout",
     "output_type": "stream",
     "text": [
      "Curso-em-Video-Python\n"
     ]
    }
   ],
   "source": [
    "b='-'.join(a)\n",
    "print(b)"
   ]
  }
 ],
 "metadata": {
  "kernelspec": {
   "display_name": "Python 3",
   "language": "python",
   "name": "python3"
  },
  "language_info": {
   "codemirror_mode": {
    "name": "ipython",
    "version": 3
   },
   "file_extension": ".py",
   "mimetype": "text/x-python",
   "name": "python",
   "nbconvert_exporter": "python",
   "pygments_lexer": "ipython3",
   "version": "3.12.1"
  }
 },
 "nbformat": 4,
 "nbformat_minor": 2
}
