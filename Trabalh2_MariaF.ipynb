{
 "cells": [
  {
   "cell_type": "code",
   "execution_count": 63,
   "metadata": {},
   "outputs": [],
   "source": [
    "class Pessoa:\n",
    "#Define pessoas com nome, idade e nif\n",
    "    def __init__(self, nome, idade, nif):\n",
    "        self.nome = nome\n",
    "        self.idade = idade\n",
    "        self.nif = nif\n",
    "#Métodos da classe\n",
    "    def getNome(self):\n",
    "        return self.nome\n",
    "    def setNome(self, nome):\n",
    "        self.nome = nome\n",
    "    def getIdade(self):\n",
    "        return self.idade\n",
    "    def setIdade(self, idade):\n",
    "        self.idade = idade\n",
    "    def getNif(self):\n",
    "        return self.nif\n",
    "    def setnif(self, nif):\n",
    "        self.nif = nif\n",
    "\n",
    "def verificaNif(pessoa):\n",
    "    print(f\"{pessoa.getNome()}, idade {pessoa.getIdade()}, tem  nif\") if pessoa.nif else print(f\"{pessoa.getNome()}, idade {pessoa.getIdade()}, não tem nif\")  \n"
   ]
  },
  {
   "cell_type": "code",
   "execution_count": 65,
   "metadata": {},
   "outputs": [
    {
     "name": "stdout",
     "output_type": "stream",
     "text": [
      "Fernanda, idade 12, não tem nif\n",
      "Filipe, idade 25, tem  nif\n"
     ]
    }
   ],
   "source": [
    "#instanciação de objetos do tipo pessoas\n",
    "p1 = Pessoa(\"Fernanda\",12,None)\n",
    "p2 = Pessoa(\"Filipe\", 25, 123456789)\n",
    "\n",
    "verificaNif(p1)\n",
    "verificaNif(p2)"
   ]
  },
  {
   "cell_type": "code",
   "execution_count": 67,
   "metadata": {},
   "outputs": [],
   "source": [
    "class Empregado(Pessoa):\n",
    "#Pessoa = superclasse; Empregado = subclasse\n",
    "    def __init__(self, nome, idade, nif, empresa, salario):\n",
    "        super().__init__(nome, idade, nif)\n",
    "        self.empresa = empresa\n",
    "        self.salario = salario\n",
    "    def getEmpresa(self):\n",
    "        return self.empresa\n",
    "    def setEmpresa(self, empresa):\n",
    "        self.empresa = empresa\n",
    "    def getSalario(self, salario):\n",
    "        return self.salario\n",
    "    def setSalario(self, salario):\n",
    "        self.salario = salario"
   ]
  },
  {
   "cell_type": "code",
   "execution_count": 68,
   "metadata": {},
   "outputs": [
    {
     "name": "stdout",
     "output_type": "stream",
     "text": [
      "Maria está emprega(o) na Auchan\n",
      "Pedro está empregada(o) na Google\n"
     ]
    }
   ],
   "source": [
    "#instanciação de empregados\n",
    "ep1 = Empregado(\"Maria\", 45, 321654987, \"Auchan\", 1500)\n",
    "ep2 = Empregado(\"Pedro\", 35, 231564897, \"Google\", 2500)\n",
    "\n",
    "print(f\"{ep1.nome} está emprega(o) na {ep1.getEmpresa()}\")\n",
    "print(f\"{ep2.getNome()} está empregada(o) na {ep2.getEmpresa()}\")"
   ]
  },
  {
   "cell_type": "code",
   "execution_count": 73,
   "metadata": {},
   "outputs": [],
   "source": [
    "#Definição da classe Veiculo\n",
    "class Veiculo:\n",
    "    #Construtor da classe Veiculo\n",
    "    def __init__(self, cor, rodas):\n",
    "        self.cor = cor\n",
    "        self.rodas = rodas\n",
    "    def mostraAtrib(self):\n",
    "        return \"Veiculo {}, com {} rodas!\".format(self.cor, self.rodas)\n",
    "    \n",
    "#Definição da classe carro que herda de Veiculo\n",
    "class Carro(Veiculo):\n",
    "    #Definição do construturo da classe Carro que herda e se inicializa com o\n",
    "    #construtor da SuperClasse veículo e tem 2 atributos específicos, a \n",
    "    #velocidade e a cilindrada\n",
    "    def __init__(self, corCarro, rodasCarro, velocidade, cilindrada):\n",
    "        super().__init__(corCarro, rodasCarro)\n",
    "        self.velocidade = velocidade\n",
    "        self.cilindrada = cilindrada\n",
    "    def mostraAtrib(self):\n",
    "    #NOTA: para devolver os atributos cor e rodas devolve-se estes atributos da\n",
    "        #superclasse veiculos\n",
    "        return \"Cor {} | {} rodas | velocidade {}  kms/h | cilindrada {}!\". format(self.cor, self.rodas, self.velocidade, self.cilindrada)\n",
    "class Camiao(Carro):\n",
    "    #Definição do construtor da classe Camiao que herda e se incializa com o\n",
    "    #construtor da Classe super (classe Carro) e tem um atributo específico\n",
    "    # que é a carga\n",
    "    def __init__(self, carga, corCamiao, rodasCamiao, velocidadeCamiao, cilindradaCamiao):\n",
    "        super().__init__(corCamiao, rodasCamiao, velocidadeCamiao, cilindradaCamiao)\n",
    "        self.carga = carga\n",
    "    def mostraAtrib(self):\n",
    "        return \"Cor {} | {} rodas | velocidade {} kms/h | cilindrada {} | {} toneladas de carga!\". format(self.cor, self.rodas, self.velocidade, self.cilindrada, self.carga)    "
   ]
  },
  {
   "cell_type": "code",
   "execution_count": 74,
   "metadata": {},
   "outputs": [
    {
     "name": "stdout",
     "output_type": "stream",
     "text": [
      "Veiculo Verde, com 2 rodas!\n",
      "Cor Azul | 4 rodas | velocidade 200  kms/h | cilindrada 1500!\n",
      "Cor Branco | 6 rodas | velocidade 180 kms/h | cilindrada 2000 | 1000 toneladas de carga!\n"
     ]
    }
   ],
   "source": [
    "#instanciação dos objetos do tipo Veiculo, Carro e Camiao\n",
    "veiculo1 = Veiculo(\"Verde\", 2)\n",
    "carro1 = Carro(\"Azul\", 4, 200, 1500)\n",
    "camiao1 = Camiao(1000, \"Branco\", 6, 180, 2000)\n",
    "\n",
    "print(veiculo1.mostraAtrib())\n",
    "print(carro1.mostraAtrib())\n",
    "print(camiao1.mostraAtrib())"
   ]
  },
  {
   "cell_type": "code",
   "execution_count": 79,
   "metadata": {},
   "outputs": [],
   "source": [
    "#criar a classse Pai\n",
    "class Pai:\n",
    "#Construtor que inclui os atributos cor dos olhos, do cabelo e passatempo que pratica\n",
    "    def __init__(self, corOlhos, corCabelo):\n",
    "        self.corOlhos = corOlhos\n",
    "        self.corCabelo = corCabelo\n",
    "        self.hobbie =\"Jardinagem\"\n",
    "    \n",
    "    \n",
    "    def meusAtributos(self):\n",
    "        print(f\"Eu faço {self.hobbie}, tenho olhos {self.corOlhos} e cabelo {self.corCabelo}. Pareço mesmo o meu pai!\")\n",
    "\n",
    "class Mae:\n",
    "#Construtor que inclui os atributos cor dos olhos, do cabelo e passatempo que pratica\n",
    "    def __init__(self, corOlhos, corCabelo):\n",
    "        self.corOlhos = corOlhos\n",
    "        self.corCabelo = corCabelo\n",
    "        self.hobbie =\"Dança\"\n",
    "\n",
    "    def meusAtributos(self):\n",
    "        print(f\"Eu faço {self.hobbie}, tenho olhos {self.corOlhos} e cabelo {self.corCabelo}. Pareço mesmo a minha mãe!\")\n",
    "\n",
    "#Classe filho que herda das classes Pai e Mae\n",
    "class Filho(Pai, Mae):\n",
    "    pass\n",
    "\n",
    "#Classe filha que herda das classes Mae e Pai\n",
    "class Filha(Mae, Pai):\n",
    "    pass"
   ]
  },
  {
   "cell_type": "code",
   "execution_count": 80,
   "metadata": {},
   "outputs": [
    {
     "name": "stdout",
     "output_type": "stream",
     "text": [
      "Eu faço Dança, tenho olhos azuis e cabelo louro. Pareço mesmo a minha mãe!\n",
      "Eu faço Jardinagem, tenho olhos castanhos e cabelo ruivo. Pareço mesmo o meu pai!\n"
     ]
    }
   ],
   "source": [
    "#instaciação de objetos do tipo Filho e Filha\n",
    "filho1 = Filho(\"castanhos\", \"ruivo\")\n",
    "filha1 = Filha(\"azuis\", \"louro\")\n",
    "\n",
    "filha1.meusAtributos()\n",
    "filho1.meusAtributos()"
   ]
  },
  {
   "cell_type": "code",
   "execution_count": 81,
   "metadata": {},
   "outputs": [
    {
     "name": "stdout",
     "output_type": "stream",
     "text": [
      "\n",
      "Aplicação da técnica de polimorfismo para mostrar conforme o tipo de objeto:\n",
      "Filha\n",
      "Eu faço Dança, tenho olhos azuis e cabelo louro. Pareço mesmo a minha mãe!\n",
      "Filho\n",
      "Eu faço Jardinagem, tenho olhos castanhos e cabelo ruivo. Pareço mesmo o meu pai!\n",
      "Pai\n",
      "Eu faço Jardinagem, tenho olhos castanhos e cabelo ruivo. Pareço mesmo o meu pai!\n",
      "Mae\n",
      "Eu faço Dança, tenho olhos Azuis e cabelo louro. Pareço mesmo a minha mãe!\n"
     ]
    }
   ],
   "source": [
    "def comoEuSou(familiar):\n",
    "    familiar.meusAtributos()\n",
    "\n",
    "pai1 = Pai(\"castanhos\", \"ruivo\")\n",
    "mae1 = Mae(\"Azuis\", \"louro\")\n",
    "\n",
    "familia1=[filha1, filho1, pai1, mae1]\n",
    "print(\"\\nAplicação da técnica de polimorfismo para mostrar conforme o tipo de objeto:\")\n",
    "for elemento in familia1:\n",
    "    print(type(elemento).__name__)\n",
    "    comoEuSou(elemento)"
   ]
  },
  {
   "cell_type": "code",
   "execution_count": 83,
   "metadata": {},
   "outputs": [
    {
     "name": "stdout",
     "output_type": "stream",
     "text": [
      "Exemplo de polimorfismo na função built-in do Python len(): \n",
      "3 5 7 0\n"
     ]
    }
   ],
   "source": [
    "print(\"Exemplo de polimorfismo na função built-in do Python len(): \")\n",
    "#Diferentes tipos de objetos\n",
    "lista =[0, \"Pythom\", 100]\n",
    "dicionario = {\"chave1\":\"Espaço\", \"chave2\":1, \"chave3\": 9, \"chave4\": 8, \"chave5\":0}\n",
    "tupla = (1, 2, 3, 4, 5, 6, 7)\n",
    "conjunto = {}\n",
    "\n",
    "#Aplicação da mesma função a diferentes tipo de objetos\n",
    "print(len(lista), len(dicionario), len(tupla), len(conjunto))\n"
   ]
  }
 ],
 "metadata": {
  "kernelspec": {
   "display_name": "Python 3",
   "language": "python",
   "name": "python3"
  },
  "language_info": {
   "codemirror_mode": {
    "name": "ipython",
    "version": 3
   },
   "file_extension": ".py",
   "mimetype": "text/x-python",
   "name": "python",
   "nbconvert_exporter": "python",
   "pygments_lexer": "ipython3",
   "version": "3.12.2"
  }
 },
 "nbformat": 4,
 "nbformat_minor": 2
}
